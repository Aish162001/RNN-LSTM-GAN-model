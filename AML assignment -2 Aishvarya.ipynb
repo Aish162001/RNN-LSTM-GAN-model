{
  "cells": [
    {
      "cell_type": "markdown",
      "metadata": {
        "id": "PZ1yYAUQKQB_"
      },
      "source": [
        "## AML Assignment -2\n",
        "## Aishvarya S - MDS202302"
      ]
    },
    {
      "cell_type": "markdown",
      "metadata": {
        "id": "jPQZDG-wKQCC"
      },
      "source": [
        "### Part -1"
      ]
    },
    {
      "cell_type": "code",
      "execution_count": null,
      "metadata": {
        "execution": {
          "iopub.execute_input": "2024-10-30T10:25:31.719046Z",
          "iopub.status.busy": "2024-10-30T10:25:31.718244Z",
          "iopub.status.idle": "2024-10-30T10:25:31.729469Z",
          "shell.execute_reply": "2024-10-30T10:25:31.728231Z",
          "shell.execute_reply.started": "2024-10-30T10:25:31.718986Z"
        },
        "id": "oxI4X1dE_CtO"
      },
      "outputs": [],
      "source": [
        "import pandas as pd\n",
        "import numpy as np\n",
        "import torch\n",
        "import os\n",
        "import torch.nn as nn\n",
        "import torch.optim as optim\n",
        "from torch.utils.data import DataLoader, Dataset\n",
        "from sklearn.model_selection import train_test_split\n",
        "from sklearn.metrics import accuracy_score, classification_report\n",
        "from sklearn.preprocessing import LabelEncoder\n",
        "from nltk.tokenize import word_tokenize\n",
        "from collections import Counter\n",
        "import nltk\n"
      ]
    },
    {
      "cell_type": "code",
      "execution_count": null,
      "metadata": {
        "execution": {
          "iopub.execute_input": "2024-10-30T10:25:31.732027Z",
          "iopub.status.busy": "2024-10-30T10:25:31.731007Z",
          "iopub.status.idle": "2024-10-30T10:25:31.762814Z",
          "shell.execute_reply": "2024-10-30T10:25:31.761715Z",
          "shell.execute_reply.started": "2024-10-30T10:25:31.731967Z"
        },
        "id": "2Oz-thtA_CtP",
        "outputId": "8efa1c96-587a-48fd-e060-1d7c33405564"
      },
      "outputs": [
        {
          "name": "stdout",
          "output_type": "stream",
          "text": [
            "[nltk_data] Downloading package punkt to /usr/share/nltk_data...\n",
            "[nltk_data]   Package punkt is already up-to-date!\n"
          ]
        }
      ],
      "source": [
        "nltk.download('punkt')\n",
        "\n",
        "# Set device\n",
        "device = torch.device(\"cuda\" if torch.cuda.is_available() else \"cpu\")\n",
        "\n",
        "# Load the dataset\n",
        "df = pd.read_csv('/kaggle/input/sms-spam-collection-dataset/spam.csv', encoding='latin-1')[['v1', 'v2']]\n",
        "df.columns = ['label', 'message']\n",
        "\n",
        "# Encode labels\n",
        "label_encoder = LabelEncoder()\n",
        "df['label'] = label_encoder.fit_transform(df['label'])  # spam = 1, ham = 0\n",
        "\n",
        "# Split into train and test sets\n",
        "train_df, test_df = train_test_split(df, test_size=0.2, random_state=42)"
      ]
    },
    {
      "cell_type": "code",
      "execution_count": null,
      "metadata": {
        "execution": {
          "iopub.execute_input": "2024-10-30T10:25:31.765427Z",
          "iopub.status.busy": "2024-10-30T10:25:31.765065Z",
          "iopub.status.idle": "2024-10-30T10:25:32.824863Z",
          "shell.execute_reply": "2024-10-30T10:25:32.823830Z",
          "shell.execute_reply.started": "2024-10-30T10:25:31.765388Z"
        },
        "id": "v0W9nFji_CtP"
      },
      "outputs": [],
      "source": [
        "# Tokenization and vocabulary building\n",
        "def tokenize(text):\n",
        "    return word_tokenize(text.lower())\n",
        "\n",
        "# Build vocabulary from training data\n",
        "counter = Counter()\n",
        "for message in train_df['message']:\n",
        "    counter.update(tokenize(message))\n",
        "\n",
        "vocab = {word: i + 1 for i, (word, _) in enumerate(counter.items())}\n",
        "vocab['<unk>'] = 0"
      ]
    },
    {
      "cell_type": "code",
      "execution_count": null,
      "metadata": {
        "execution": {
          "iopub.execute_input": "2024-10-30T10:25:32.826687Z",
          "iopub.status.busy": "2024-10-30T10:25:32.826239Z",
          "iopub.status.idle": "2024-10-30T10:25:32.835307Z",
          "shell.execute_reply": "2024-10-30T10:25:32.833987Z",
          "shell.execute_reply.started": "2024-10-30T10:25:32.826623Z"
        },
        "id": "Kdv7b3PB_CtQ"
      },
      "outputs": [],
      "source": [
        "# Text-to-sequence encoding function\n",
        "def text_pipeline(text):\n",
        "    return [vocab.get(token, vocab['<unk>']) for token in tokenize(text)]\n",
        "\n",
        "# Dataset class\n",
        "class SMSDataset(Dataset):\n",
        "    def __init__(self, df):\n",
        "        self.labels = df['label'].values\n",
        "        self.messages = df['message'].values\n",
        "\n",
        "    def __len__(self):\n",
        "        return len(self.labels)\n",
        "\n",
        "    def __getitem__(self, idx):\n",
        "        label = self.labels[idx]\n",
        "        text = torch.tensor(text_pipeline(self.messages[idx]), dtype=torch.long)\n",
        "        return text, label"
      ]
    },
    {
      "cell_type": "code",
      "execution_count": null,
      "metadata": {
        "execution": {
          "iopub.execute_input": "2024-10-30T10:25:32.837298Z",
          "iopub.status.busy": "2024-10-30T10:25:32.836830Z",
          "iopub.status.idle": "2024-10-30T10:25:32.847858Z",
          "shell.execute_reply": "2024-10-30T10:25:32.846693Z",
          "shell.execute_reply.started": "2024-10-30T10:25:32.837257Z"
        },
        "id": "kn0v1cl__CtQ"
      },
      "outputs": [],
      "source": [
        "# Dataloaders\n",
        "train_dataset = SMSDataset(train_df)\n",
        "test_dataset = SMSDataset(test_df)\n",
        "batch_size = 32\n",
        "train_loader = DataLoader(train_dataset, batch_size=batch_size, shuffle=True, collate_fn=lambda x: collate_fn(x))\n",
        "test_loader = DataLoader(test_dataset, batch_size=batch_size,shuffle=True, collate_fn=lambda x: collate_fn(x))"
      ]
    },
    {
      "cell_type": "code",
      "execution_count": null,
      "metadata": {
        "execution": {
          "iopub.execute_input": "2024-10-30T10:25:32.849966Z",
          "iopub.status.busy": "2024-10-30T10:25:32.849472Z",
          "iopub.status.idle": "2024-10-30T10:25:32.863960Z",
          "shell.execute_reply": "2024-10-30T10:25:32.862714Z",
          "shell.execute_reply.started": "2024-10-30T10:25:32.849893Z"
        },
        "id": "hH3MVhki_CtQ"
      },
      "outputs": [],
      "source": [
        "# Padding function\n",
        "def collate_fn(batch):\n",
        "    labels = torch.tensor([item[1] for item in batch], dtype=torch.long)\n",
        "    texts = [item[0] for item in batch]\n",
        "    text_lengths = torch.tensor([len(text) for text in texts], dtype=torch.long)\n",
        "    padded_texts = nn.utils.rnn.pad_sequence(texts, batch_first=True)\n",
        "    return padded_texts, text_lengths, labels\n",
        "\n",
        "# Define Model\n",
        "embedding_dim = 50\n",
        "hidden_dim = 64\n",
        "output_dim = 2\n",
        "vocab_size = len(vocab)"
      ]
    },
    {
      "cell_type": "code",
      "execution_count": null,
      "metadata": {
        "execution": {
          "iopub.execute_input": "2024-10-30T10:25:32.865940Z",
          "iopub.status.busy": "2024-10-30T10:25:32.865450Z",
          "iopub.status.idle": "2024-10-30T10:25:32.876873Z",
          "shell.execute_reply": "2024-10-30T10:25:32.875858Z",
          "shell.execute_reply.started": "2024-10-30T10:25:32.865865Z"
        },
        "id": "VF-R2TCN_CtQ"
      },
      "outputs": [],
      "source": [
        "class RNNClassifier(nn.Module):\n",
        "    def __init__(self):\n",
        "        super(RNNClassifier, self).__init__()\n",
        "        self.embedding = nn.Embedding(vocab_size, embedding_dim)\n",
        "        self.rnn = nn.RNN(embedding_dim, hidden_dim, batch_first=True)\n",
        "        self.fc = nn.Linear(hidden_dim, output_dim)\n",
        "\n",
        "    def forward(self, x, x_lengths):\n",
        "        x = self.embedding(x)\n",
        "        packed_input = nn.utils.rnn.pack_padded_sequence(x, x_lengths.cpu(), batch_first=True, enforce_sorted=False)\n",
        "        packed_output, _ = self.rnn(packed_input)\n",
        "        output, _ = nn.utils.rnn.pad_packed_sequence(packed_output, batch_first=True)\n",
        "        output = output[range(len(output)), x_lengths - 1]\n",
        "        return self.fc(output)"
      ]
    },
    {
      "cell_type": "code",
      "execution_count": null,
      "metadata": {
        "execution": {
          "iopub.execute_input": "2024-10-30T10:25:32.881380Z",
          "iopub.status.busy": "2024-10-30T10:25:32.880963Z",
          "iopub.status.idle": "2024-10-30T10:25:32.894406Z",
          "shell.execute_reply": "2024-10-30T10:25:32.893105Z",
          "shell.execute_reply.started": "2024-10-30T10:25:32.881337Z"
        },
        "id": "fY8MLiDg_CtR"
      },
      "outputs": [],
      "source": [
        "class LSTMClassifier(nn.Module):\n",
        "    def __init__(self):\n",
        "        super(LSTMClassifier, self).__init__()\n",
        "        self.embedding = nn.Embedding(vocab_size, embedding_dim)\n",
        "        self.lstm = nn.LSTM(embedding_dim, hidden_dim, batch_first=True)\n",
        "        self.fc = nn.Linear(hidden_dim, output_dim)\n",
        "\n",
        "    def forward(self, x, x_lengths):\n",
        "        x = self.embedding(x)\n",
        "        packed_input = nn.utils.rnn.pack_padded_sequence(x, x_lengths.cpu(), batch_first=True, enforce_sorted=False)\n",
        "        packed_output, (hidden, _) = self.lstm(packed_input)\n",
        "        output, _ = nn.utils.rnn.pad_packed_sequence(packed_output, batch_first=True)\n",
        "        output = output[range(len(output)), x_lengths - 1]\n",
        "        return self.fc(output)"
      ]
    },
    {
      "cell_type": "code",
      "execution_count": null,
      "metadata": {
        "execution": {
          "iopub.execute_input": "2024-10-30T10:25:32.896296Z",
          "iopub.status.busy": "2024-10-30T10:25:32.895921Z",
          "iopub.status.idle": "2024-10-30T10:25:32.919668Z",
          "shell.execute_reply": "2024-10-30T10:25:32.918516Z",
          "shell.execute_reply.started": "2024-10-30T10:25:32.896256Z"
        },
        "id": "I45LntcU_CtR"
      },
      "outputs": [],
      "source": [
        "# Initialize models\n",
        "rnn_model = RNNClassifier().to(device)\n",
        "lstm_model = LSTMClassifier().to(device)\n",
        "\n",
        "# Loss and optimizer\n",
        "criterion = nn.CrossEntropyLoss()\n",
        "rnn_optimizer = optim.Adam(rnn_model.parameters(), lr=0.001)\n",
        "lstm_optimizer = optim.Adam(lstm_model.parameters(), lr=0.001)"
      ]
    },
    {
      "cell_type": "code",
      "execution_count": null,
      "metadata": {
        "execution": {
          "iopub.execute_input": "2024-10-30T10:25:32.921327Z",
          "iopub.status.busy": "2024-10-30T10:25:32.920997Z",
          "iopub.status.idle": "2024-10-30T10:25:32.930453Z",
          "shell.execute_reply": "2024-10-30T10:25:32.929196Z",
          "shell.execute_reply.started": "2024-10-30T10:25:32.921293Z"
        },
        "id": "EJuhblxw_CtR"
      },
      "outputs": [],
      "source": [
        "# Training function\n",
        "def train(model, optimizer, train_loader):\n",
        "    model.train()\n",
        "    total_loss = 0\n",
        "    for texts, text_lengths, labels in train_loader:\n",
        "        texts, text_lengths, labels = texts.to(device), text_lengths.to(device), labels.to(device)\n",
        "        optimizer.zero_grad()\n",
        "        output = model(texts, text_lengths)\n",
        "        loss = criterion(output, labels)\n",
        "        loss.backward()\n",
        "        optimizer.step()\n",
        "        total_loss += loss.item()\n",
        "    return total_loss / len(train_loader)"
      ]
    },
    {
      "cell_type": "code",
      "execution_count": null,
      "metadata": {
        "execution": {
          "iopub.execute_input": "2024-10-30T10:25:32.932583Z",
          "iopub.status.busy": "2024-10-30T10:25:32.932124Z",
          "iopub.status.idle": "2024-10-30T10:25:32.948814Z",
          "shell.execute_reply": "2024-10-30T10:25:32.947492Z",
          "shell.execute_reply.started": "2024-10-30T10:25:32.932533Z"
        },
        "id": "Mbf19572_CtR"
      },
      "outputs": [],
      "source": [
        "# Evaluation function\n",
        "def evaluate(model, loader):\n",
        "    model.eval()\n",
        "    preds = []\n",
        "    true_labels = []\n",
        "    with torch.no_grad():\n",
        "        for texts, text_lengths, labels in loader:\n",
        "            texts, text_lengths, labels = texts.to(device), text_lengths.to(device), labels.to(device)\n",
        "            output = model(texts, text_lengths)\n",
        "            predictions = output.argmax(dim=1)\n",
        "            preds.extend(predictions.cpu().numpy())\n",
        "            true_labels.extend(labels.cpu().numpy())\n",
        "    return accuracy_score(true_labels, preds), classification_report(true_labels, preds, target_names=['ham', 'spam'])"
      ]
    },
    {
      "cell_type": "code",
      "execution_count": null,
      "metadata": {
        "execution": {
          "iopub.execute_input": "2024-10-30T10:25:32.950966Z",
          "iopub.status.busy": "2024-10-30T10:25:32.950443Z",
          "iopub.status.idle": "2024-10-30T10:26:45.765849Z",
          "shell.execute_reply": "2024-10-30T10:26:45.764692Z",
          "shell.execute_reply.started": "2024-10-30T10:25:32.950882Z"
        },
        "id": "HYoJiKD__CtR",
        "outputId": "c464997f-cffb-4796-cef8-07ae2d1572e6"
      },
      "outputs": [
        {
          "name": "stdout",
          "output_type": "stream",
          "text": [
            "Training RNN model...\n",
            "Epoch 1, Loss: 0.3284\n",
            "Epoch 2, Loss: 0.1565\n",
            "Epoch 3, Loss: 0.0948\n",
            "Epoch 4, Loss: 0.0645\n",
            "Epoch 5, Loss: 0.0474\n",
            "Epoch 6, Loss: 0.0368\n",
            "Epoch 7, Loss: 0.0335\n",
            "Epoch 8, Loss: 0.0234\n",
            "Epoch 9, Loss: 0.0154\n",
            "Epoch 10, Loss: 0.0136\n",
            "Epoch 11, Loss: 0.0091\n",
            "Epoch 12, Loss: 0.0057\n",
            "Epoch 13, Loss: 0.0124\n",
            "Epoch 14, Loss: 0.0040\n",
            "Epoch 15, Loss: 0.0069\n",
            "Epoch 16, Loss: 0.0170\n",
            "Epoch 17, Loss: 0.0065\n",
            "Epoch 18, Loss: 0.0020\n",
            "Epoch 19, Loss: 0.0006\n",
            "Epoch 20, Loss: 0.0004\n"
          ]
        }
      ],
      "source": [
        "# Train and evaluate RNN model\n",
        "print(\"Training RNN model...\")\n",
        "for epoch in range(20):\n",
        "    rnn_train_loss = train(rnn_model, rnn_optimizer, train_loader)\n",
        "    print(f'Epoch {epoch+1}, Loss: {rnn_train_loss:.4f}')"
      ]
    },
    {
      "cell_type": "code",
      "execution_count": null,
      "metadata": {
        "execution": {
          "iopub.execute_input": "2024-10-30T10:26:45.768012Z",
          "iopub.status.busy": "2024-10-30T10:26:45.767510Z",
          "iopub.status.idle": "2024-10-30T10:26:46.197867Z",
          "shell.execute_reply": "2024-10-30T10:26:46.196836Z",
          "shell.execute_reply.started": "2024-10-30T10:26:45.767957Z"
        },
        "id": "MPBMMSe2_CtS",
        "outputId": "b03c7cf8-3949-496e-e16f-a23ba67ccb27"
      },
      "outputs": [
        {
          "name": "stdout",
          "output_type": "stream",
          "text": [
            "\n",
            "RNN Model Performance\n",
            "Accuracy: 0.9740\n"
          ]
        }
      ],
      "source": [
        "rnn_accuracy, rnn_report = evaluate(rnn_model, test_loader)\n",
        "print(\"\\nRNN Model Performance\")\n",
        "print(f\"Accuracy: {rnn_accuracy:.4f}\")\n"
      ]
    },
    {
      "cell_type": "code",
      "execution_count": null,
      "metadata": {
        "execution": {
          "iopub.execute_input": "2024-10-30T10:26:46.200732Z",
          "iopub.status.busy": "2024-10-30T10:26:46.199818Z",
          "iopub.status.idle": "2024-10-30T10:26:46.205830Z",
          "shell.execute_reply": "2024-10-30T10:26:46.204760Z",
          "shell.execute_reply.started": "2024-10-30T10:26:46.200679Z"
        },
        "id": "DVp34G_-_CtS",
        "outputId": "82dab05b-5a69-44f6-87f0-f4cc944c3635"
      },
      "outputs": [
        {
          "name": "stdout",
          "output_type": "stream",
          "text": [
            "              precision    recall  f1-score   support\n",
            "\n",
            "         ham       0.98      0.99      0.99       965\n",
            "        spam       0.92      0.89      0.90       150\n",
            "\n",
            "    accuracy                           0.97      1115\n",
            "   macro avg       0.95      0.94      0.94      1115\n",
            "weighted avg       0.97      0.97      0.97      1115\n",
            "\n"
          ]
        }
      ],
      "source": [
        "print(rnn_report)"
      ]
    },
    {
      "cell_type": "code",
      "execution_count": null,
      "metadata": {
        "execution": {
          "iopub.execute_input": "2024-10-30T10:26:46.207826Z",
          "iopub.status.busy": "2024-10-30T10:26:46.207353Z",
          "iopub.status.idle": "2024-10-30T10:28:38.632506Z",
          "shell.execute_reply": "2024-10-30T10:28:38.631282Z",
          "shell.execute_reply.started": "2024-10-30T10:26:46.207770Z"
        },
        "id": "agq26wcy_CtS",
        "outputId": "66b22ad4-f301-48e0-8f1c-39869aedc260"
      },
      "outputs": [
        {
          "name": "stdout",
          "output_type": "stream",
          "text": [
            "Training LSTM model...\n",
            "Epoch 1, Loss: 0.3277\n",
            "Epoch 2, Loss: 0.1209\n",
            "Epoch 3, Loss: 0.0595\n",
            "Epoch 4, Loss: 0.0352\n",
            "Epoch 5, Loss: 0.0254\n",
            "Epoch 6, Loss: 0.0192\n",
            "Epoch 7, Loss: 0.0208\n",
            "Epoch 8, Loss: 0.0104\n",
            "Epoch 9, Loss: 0.0047\n",
            "Epoch 10, Loss: 0.0028\n",
            "Epoch 11, Loss: 0.0019\n",
            "Epoch 12, Loss: 0.0014\n",
            "Epoch 13, Loss: 0.0010\n",
            "Epoch 14, Loss: 0.0007\n",
            "Epoch 15, Loss: 0.0005\n",
            "Epoch 16, Loss: 0.0004\n",
            "Epoch 17, Loss: 0.0003\n",
            "Epoch 18, Loss: 0.0003\n",
            "Epoch 19, Loss: 0.0002\n",
            "Epoch 20, Loss: 0.0002\n"
          ]
        }
      ],
      "source": [
        "# Train and evaluate LSTM model\n",
        "print(\"Training LSTM model...\")\n",
        "for epoch in range(20):\n",
        "    lstm_train_loss = train(lstm_model, lstm_optimizer, train_loader)\n",
        "    print(f'Epoch {epoch+1}, Loss: {lstm_train_loss:.4f}')"
      ]
    },
    {
      "cell_type": "code",
      "execution_count": null,
      "metadata": {
        "execution": {
          "iopub.execute_input": "2024-10-30T10:28:38.634561Z",
          "iopub.status.busy": "2024-10-30T10:28:38.634112Z",
          "iopub.status.idle": "2024-10-30T10:28:39.144426Z",
          "shell.execute_reply": "2024-10-30T10:28:39.143124Z",
          "shell.execute_reply.started": "2024-10-30T10:28:38.634510Z"
        },
        "id": "sFnnAqrU_CtS",
        "outputId": "acc75182-1177-4626-8c6b-a52c651c9f80"
      },
      "outputs": [
        {
          "name": "stdout",
          "output_type": "stream",
          "text": [
            "\n",
            "LSTM Model Performance\n",
            "Accuracy: 0.9749\n"
          ]
        }
      ],
      "source": [
        "\n",
        "lstm_accuracy, lstm_report = evaluate(lstm_model, test_loader)\n",
        "print(\"\\nLSTM Model Performance\")\n",
        "print(f\"Accuracy: {lstm_accuracy:.4f}\")\n"
      ]
    },
    {
      "cell_type": "code",
      "execution_count": null,
      "metadata": {
        "execution": {
          "iopub.execute_input": "2024-10-30T10:28:39.146571Z",
          "iopub.status.busy": "2024-10-30T10:28:39.146115Z",
          "iopub.status.idle": "2024-10-30T10:28:39.152056Z",
          "shell.execute_reply": "2024-10-30T10:28:39.151239Z",
          "shell.execute_reply.started": "2024-10-30T10:28:39.146519Z"
        },
        "id": "0XKK2TDB_CtT",
        "outputId": "26538bdc-b6c2-4b31-ea7e-6964c16efb24"
      },
      "outputs": [
        {
          "name": "stdout",
          "output_type": "stream",
          "text": [
            "              precision    recall  f1-score   support\n",
            "\n",
            "         ham       0.99      0.98      0.99       965\n",
            "        spam       0.90      0.91      0.91       150\n",
            "\n",
            "    accuracy                           0.97      1115\n",
            "   macro avg       0.94      0.95      0.95      1115\n",
            "weighted avg       0.98      0.97      0.97      1115\n",
            "\n"
          ]
        }
      ],
      "source": [
        "print(lstm_report)"
      ]
    },
    {
      "cell_type": "code",
      "execution_count": null,
      "metadata": {
        "execution": {
          "iopub.execute_input": "2024-10-30T10:28:39.154233Z",
          "iopub.status.busy": "2024-10-30T10:28:39.153669Z",
          "iopub.status.idle": "2024-10-30T10:28:39.164893Z",
          "shell.execute_reply": "2024-10-30T10:28:39.163744Z",
          "shell.execute_reply.started": "2024-10-30T10:28:39.154183Z"
        },
        "id": "7b8E8hJD_CtT",
        "outputId": "528718ea-f76c-4961-84d3-a62acbc72ffd"
      },
      "outputs": [
        {
          "name": "stdout",
          "output_type": "stream",
          "text": [
            "Number of parameters in RNN model: 443304\n",
            "Number of parameters in LSTM model: 465576\n"
          ]
        }
      ],
      "source": [
        "def count_parameters(model):\n",
        "    return sum(p.numel() for p in model.parameters() if p.requires_grad)\n",
        "\n",
        "# Calculate parameters for each model\n",
        "rnn_params = count_parameters(rnn_model)\n",
        "lstm_params = count_parameters(lstm_model)\n",
        "print(f'Number of parameters in RNN model: {rnn_params}')\n",
        "print(f'Number of parameters in LSTM model: {lstm_params}')\n"
      ]
    },
    {
      "cell_type": "code",
      "execution_count": null,
      "metadata": {
        "execution": {
          "iopub.execute_input": "2024-10-30T10:30:33.248497Z",
          "iopub.status.busy": "2024-10-30T10:30:33.248051Z",
          "iopub.status.idle": "2024-10-30T10:30:33.292153Z",
          "shell.execute_reply": "2024-10-30T10:30:33.290828Z",
          "shell.execute_reply.started": "2024-10-30T10:30:33.248454Z"
        },
        "id": "wUDYWuj__CtT",
        "outputId": "5dc62410-c46c-4cd0-8ac0-f6d2c32bc81c"
      },
      "outputs": [
        {
          "name": "stdout",
          "output_type": "stream",
          "text": [
            "RNN Model Predictions:\n",
            "True Label: 1 | Predicted Label: 1\n",
            "True Label: 0 | Predicted Label: 0\n",
            "True Label: 0 | Predicted Label: 0\n",
            "True Label: 0 | Predicted Label: 0\n",
            "True Label: 0 | Predicted Label: 0\n",
            "\n",
            "LSTM Model Predictions:\n",
            "True Label: 0 | Predicted Label: 0\n",
            "True Label: 0 | Predicted Label: 0\n",
            "True Label: 0 | Predicted Label: 0\n",
            "True Label: 1 | Predicted Label: 1\n",
            "True Label: 0 | Predicted Label: 0\n"
          ]
        }
      ],
      "source": [
        "def display_predictions(model, loader, num_examples=5):\n",
        "    model.eval()  # Set the model to evaluation mode\n",
        "    examples_shown = 0\n",
        "\n",
        "    with torch.no_grad():\n",
        "        for inputs, input_lengths, targets in loader:\n",
        "            inputs, input_lengths, targets = inputs.to(device), input_lengths.to(device), targets.to(device)\n",
        "            outputs = model(inputs, input_lengths)\n",
        "\n",
        "            # If outputs has shape (batch_size, num_classes), get predicted class\n",
        "            if outputs.dim() == 2:\n",
        "                predictions = outputs.argmax(dim=1)\n",
        "            # If outputs has shape (batch_size, sequence_length, num_classes), get class for each time step\n",
        "            elif outputs.dim() == 3:\n",
        "                predictions = outputs.argmax(dim=2)\n",
        "\n",
        "            predictions = predictions.cpu().numpy()\n",
        "            targets = targets.cpu().numpy()\n",
        "\n",
        "            # Display each example\n",
        "            for true, pred in zip(targets, predictions):\n",
        "                print(f\"True Label: {true} | Predicted Label: {pred}\")\n",
        "                examples_shown += 1\n",
        "                if examples_shown >= num_examples:\n",
        "                    return  # Stop after displaying the specified number of examples\n",
        "\n",
        "# Run the display function for RNN and LSTM models\n",
        "print(\"RNN Model Predictions:\")\n",
        "display_predictions(rnn_model, test_loader)\n",
        "\n",
        "print(\"\\nLSTM Model Predictions:\")\n",
        "display_predictions(lstm_model, test_loader)\n"
      ]
    },
    {
      "cell_type": "markdown",
      "metadata": {
        "id": "dbpP8Jzd_CtT"
      },
      "source": [
        "### Part - 2"
      ]
    },
    {
      "cell_type": "code",
      "execution_count": null,
      "metadata": {
        "execution": {
          "iopub.execute_input": "2024-10-29T15:47:01.029267Z",
          "iopub.status.busy": "2024-10-29T15:47:01.028135Z",
          "iopub.status.idle": "2024-10-29T15:47:01.036534Z",
          "shell.execute_reply": "2024-10-29T15:47:01.035325Z",
          "shell.execute_reply.started": "2024-10-29T15:47:01.029197Z"
        },
        "id": "1NMm-W_E_aMw"
      },
      "outputs": [],
      "source": [
        "import numpy as np\n",
        "import pandas as pd\n",
        "import os\n",
        "import torch\n",
        "import torch.nn as nn\n",
        "import torch.optim as optim\n",
        "from torch.utils.data import DataLoader, Dataset\n",
        "from tensorflow.keras.preprocessing.text import Tokenizer\n",
        "from tensorflow.keras.preprocessing.sequence import pad_sequences\n",
        "from sklearn.model_selection import train_test_split"
      ]
    },
    {
      "cell_type": "code",
      "execution_count": null,
      "metadata": {
        "execution": {
          "iopub.execute_input": "2024-10-29T15:47:05.494746Z",
          "iopub.status.busy": "2024-10-29T15:47:05.493734Z",
          "iopub.status.idle": "2024-10-29T15:47:05.694195Z",
          "shell.execute_reply": "2024-10-29T15:47:05.692972Z",
          "shell.execute_reply.started": "2024-10-29T15:47:05.494696Z"
        },
        "id": "Bs-fA0gb_aMw"
      },
      "outputs": [],
      "source": [
        "# Load your dataset\n",
        "data = pd.read_csv('/kaggle/input/sms-spam-collection-dataset/spam.csv', encoding='latin-1')[['v1', 'v2']]\n",
        "data.columns = ['label', 'message']\n",
        "\n",
        "# Prepare SMS texts\n",
        "texts = data['message'].tolist()\n",
        "\n",
        "# Tokenization\n",
        "tokenizer = Tokenizer()\n",
        "tokenizer.fit_on_texts(texts)\n",
        "total_words = len(tokenizer.word_index) + 1"
      ]
    },
    {
      "cell_type": "code",
      "execution_count": null,
      "metadata": {
        "execution": {
          "iopub.execute_input": "2024-10-29T15:47:08.241009Z",
          "iopub.status.busy": "2024-10-29T15:47:08.240528Z",
          "iopub.status.idle": "2024-10-29T15:47:08.254459Z",
          "shell.execute_reply": "2024-10-29T15:47:08.253183Z",
          "shell.execute_reply.started": "2024-10-29T15:47:08.240961Z"
        },
        "id": "zkvx49Sc_aMx"
      },
      "outputs": [],
      "source": [
        "# Create input sequences\n",
        "input_sequences = []\n",
        "for text in texts:\n",
        "    half_length = len(text) // 2\n",
        "    first_half = text[:half_length]\n",
        "    second_half = text[half_length:] + ' <END>'\n",
        "    input_sequences.append((first_half, second_half))"
      ]
    },
    {
      "cell_type": "code",
      "execution_count": null,
      "metadata": {
        "execution": {
          "iopub.execute_input": "2024-10-29T15:47:10.813478Z",
          "iopub.status.busy": "2024-10-29T15:47:10.812641Z",
          "iopub.status.idle": "2024-10-29T15:47:11.066321Z",
          "shell.execute_reply": "2024-10-29T15:47:11.064999Z",
          "shell.execute_reply.started": "2024-10-29T15:47:10.813430Z"
        },
        "id": "HDQfI6v4_aMy"
      },
      "outputs": [],
      "source": [
        "# Prepare input and output\n",
        "X, y = zip(*input_sequences)\n",
        "X_sequences = tokenizer.texts_to_sequences(X)\n",
        "y_sequences = tokenizer.texts_to_sequences(y)\n",
        "\n",
        "# Padding sequences\n",
        "max_sequence_length = max(max(len(seq) for seq in X_sequences), max(len(seq) for seq in y_sequences))\n",
        "X_pad = pad_sequences(X_sequences, maxlen=max_sequence_length)\n",
        "y_pad = pad_sequences(y_sequences, maxlen=max_sequence_length)"
      ]
    },
    {
      "cell_type": "code",
      "execution_count": null,
      "metadata": {
        "execution": {
          "iopub.execute_input": "2024-10-29T15:47:13.284176Z",
          "iopub.status.busy": "2024-10-29T15:47:13.283436Z",
          "iopub.status.idle": "2024-10-29T15:47:13.295422Z",
          "shell.execute_reply": "2024-10-29T15:47:13.294247Z",
          "shell.execute_reply.started": "2024-10-29T15:47:13.284127Z"
        },
        "id": "fUjG33qK_aMy"
      },
      "outputs": [],
      "source": [
        "# Split the data into training and testing sets\n",
        "X_train, X_test, y_train, y_test = train_test_split(X_pad, y_pad, test_size=0.2, random_state=42)\n",
        "\n",
        "# Convert data to PyTorch tensors\n",
        "X_train, X_test = torch.LongTensor(X_train), torch.LongTensor(X_test)\n",
        "y_train, y_test = torch.LongTensor(y_train), torch.LongTensor(y_test)"
      ]
    },
    {
      "cell_type": "code",
      "execution_count": null,
      "metadata": {
        "execution": {
          "iopub.execute_input": "2024-10-29T15:47:15.797715Z",
          "iopub.status.busy": "2024-10-29T15:47:15.797244Z",
          "iopub.status.idle": "2024-10-29T15:47:15.806652Z",
          "shell.execute_reply": "2024-10-29T15:47:15.805335Z",
          "shell.execute_reply.started": "2024-10-29T15:47:15.797667Z"
        },
        "id": "dnObr148_aMz"
      },
      "outputs": [],
      "source": [
        "# Dataset class\n",
        "class SMSSentenceDataset(Dataset):\n",
        "    def __init__(self, X, y):\n",
        "        self.X = X\n",
        "        self.y = y\n",
        "\n",
        "    def __len__(self):\n",
        "        return len(self.X)\n",
        "\n",
        "    def __getitem__(self, idx):\n",
        "        return self.X[idx], self.y[idx]\n",
        "\n",
        "train_dataset = SMSSentenceDataset(X_train, y_train)\n",
        "test_dataset = SMSSentenceDataset(X_test, y_test)\n",
        "\n",
        "train_loader = DataLoader(train_dataset, batch_size=32, shuffle=True)\n",
        "test_loader = DataLoader(test_dataset, batch_size=32, shuffle=False)"
      ]
    },
    {
      "cell_type": "code",
      "execution_count": null,
      "metadata": {
        "execution": {
          "iopub.execute_input": "2024-10-29T15:47:18.828266Z",
          "iopub.status.busy": "2024-10-29T15:47:18.827624Z",
          "iopub.status.idle": "2024-10-29T15:47:18.836403Z",
          "shell.execute_reply": "2024-10-29T15:47:18.835256Z",
          "shell.execute_reply.started": "2024-10-29T15:47:18.828213Z"
        },
        "id": "VQbYLA6y_aMz"
      },
      "outputs": [],
      "source": [
        "# Define the RNN model\n",
        "class RNNModel(nn.Module):\n",
        "    def __init__(self, vocab_size, embed_dim, hidden_dim, output_dim):\n",
        "        super(RNNModel, self).__init__()\n",
        "        self.embedding = nn.Embedding(vocab_size, embed_dim)\n",
        "        self.rnn = nn.RNN(embed_dim, hidden_dim, batch_first=True)\n",
        "        self.fc = nn.Linear(hidden_dim, output_dim)\n",
        "\n",
        "    def forward(self, x):\n",
        "        x = self.embedding(x)\n",
        "        rnn_out, _ = self.rnn(x)\n",
        "        out = self.fc(rnn_out)\n",
        "        return out"
      ]
    },
    {
      "cell_type": "code",
      "execution_count": null,
      "metadata": {
        "execution": {
          "iopub.execute_input": "2024-10-29T15:47:21.377043Z",
          "iopub.status.busy": "2024-10-29T15:47:21.376597Z",
          "iopub.status.idle": "2024-10-29T15:47:21.385472Z",
          "shell.execute_reply": "2024-10-29T15:47:21.384028Z",
          "shell.execute_reply.started": "2024-10-29T15:47:21.377000Z"
        },
        "id": "zp295Kpx_aM0"
      },
      "outputs": [],
      "source": [
        "# Define the LSTM model\n",
        "class LSTMModel(nn.Module):\n",
        "    def __init__(self, vocab_size, embed_dim, hidden_dim, output_dim):\n",
        "        super(LSTMModel, self).__init__()\n",
        "        self.embedding = nn.Embedding(vocab_size, embed_dim)\n",
        "        self.lstm = nn.LSTM(embed_dim, hidden_dim, batch_first=True)\n",
        "        self.fc = nn.Linear(hidden_dim, output_dim)\n",
        "\n",
        "    def forward(self, x):\n",
        "        x = self.embedding(x)\n",
        "        lstm_out, _ = self.lstm(x)\n",
        "        out = self.fc(lstm_out)\n",
        "        return out"
      ]
    },
    {
      "cell_type": "code",
      "execution_count": null,
      "metadata": {
        "execution": {
          "iopub.execute_input": "2024-10-29T15:47:23.837959Z",
          "iopub.status.busy": "2024-10-29T15:47:23.836903Z",
          "iopub.status.idle": "2024-10-29T15:47:23.866586Z",
          "shell.execute_reply": "2024-10-29T15:47:23.865407Z",
          "shell.execute_reply.started": "2024-10-29T15:47:23.837898Z"
        },
        "id": "sFGkkDC1_aM0"
      },
      "outputs": [],
      "source": [
        "# Instantiate models\n",
        "embed_dim = 64\n",
        "hidden_dim = 64\n",
        "output_dim = total_words\n",
        "\n",
        "rnn_model = RNNModel(total_words, embed_dim, hidden_dim, output_dim)\n",
        "lstm_model = LSTMModel(total_words, embed_dim, hidden_dim, output_dim)"
      ]
    },
    {
      "cell_type": "code",
      "execution_count": null,
      "metadata": {
        "execution": {
          "iopub.execute_input": "2024-10-29T12:25:24.718855Z",
          "iopub.status.busy": "2024-10-29T12:25:24.718477Z",
          "iopub.status.idle": "2024-10-29T12:25:25.213288Z",
          "shell.execute_reply": "2024-10-29T12:25:25.212104Z",
          "shell.execute_reply.started": "2024-10-29T12:25:24.718814Z"
        },
        "id": "6tqyMaEg_aM1",
        "outputId": "0203155e-7e18-4015-e187-50bfdf0c61c9"
      },
      "outputs": [
        {
          "name": "stdout",
          "output_type": "stream",
          "text": [
            "Number of parameters in RNN Model: 1159129\n",
            "Number of parameters in LSTM Model: 1184089\n"
          ]
        }
      ],
      "source": [
        "# Print number of parameters\n",
        "def count_parameters(model):\n",
        "    return sum(p.numel() for p in model.parameters() if p.requires_grad)\n",
        "\n",
        "print(f'Number of parameters in RNN Model: {count_parameters(rnn_model)}')\n",
        "print(f'Number of parameters in LSTM Model: {count_parameters(lstm_model)}')"
      ]
    },
    {
      "cell_type": "code",
      "execution_count": null,
      "metadata": {
        "execution": {
          "iopub.execute_input": "2024-10-29T15:47:27.013073Z",
          "iopub.status.busy": "2024-10-29T15:47:27.012609Z",
          "iopub.status.idle": "2024-10-29T15:47:27.023905Z",
          "shell.execute_reply": "2024-10-29T15:47:27.022744Z",
          "shell.execute_reply.started": "2024-10-29T15:47:27.013028Z"
        },
        "id": "oGNsei32_aM1"
      },
      "outputs": [],
      "source": [
        "# Define Loss and Optimizers\n",
        "criterion = nn.CrossEntropyLoss()\n",
        "rnn_optimizer = optim.Adam(rnn_model.parameters(), lr=0.001)\n",
        "lstm_optimizer = optim.Adam(lstm_model.parameters(), lr=0.001)\n",
        "\n",
        "# Train function\n",
        "def train_model(model, optimizer, num_epochs=100):\n",
        "    model.train()\n",
        "    for epoch in range(num_epochs):\n",
        "        epoch_loss = 0\n",
        "        for X_batch, y_batch in train_loader:\n",
        "            optimizer.zero_grad()\n",
        "            outputs = model(X_batch)\n",
        "            # Reshape outputs and targets for CrossEntropyLoss\n",
        "            loss = criterion(outputs.view(-1, total_words), y_batch.view(-1))\n",
        "            loss.backward()\n",
        "            optimizer.step()\n",
        "            epoch_loss += loss.item()\n",
        "        print(f'Epoch [{epoch+1}/{num_epochs}], Loss: {epoch_loss/len(train_loader):.4f}')"
      ]
    },
    {
      "cell_type": "code",
      "execution_count": null,
      "metadata": {
        "execution": {
          "iopub.execute_input": "2024-10-29T15:47:29.241761Z",
          "iopub.status.busy": "2024-10-29T15:47:29.241343Z",
          "iopub.status.idle": "2024-10-29T15:47:29.250011Z",
          "shell.execute_reply": "2024-10-29T15:47:29.248708Z",
          "shell.execute_reply.started": "2024-10-29T15:47:29.241723Z"
        },
        "id": "-MAYKtrl_aM2"
      },
      "outputs": [],
      "source": [
        "# Prediction function for a single example\n",
        "def predict_example(model, example_text):\n",
        "    model.eval()\n",
        "    with torch.no_grad():\n",
        "        example_seq = tokenizer.texts_to_sequences([example_text])\n",
        "        example_pad = pad_sequences(example_seq, maxlen=max_sequence_length)\n",
        "        example_tensor = torch.LongTensor(example_pad)\n",
        "\n",
        "        output = model(example_tensor)\n",
        "        output_indices = torch.argmax(output, dim=-1).squeeze().tolist()\n",
        "\n",
        "        predicted_text = ' '.join(\n",
        "            tokenizer.index_word[idx] for idx in output_indices if idx in tokenizer.index_word and idx != 0)\n",
        "        return predicted_text\n"
      ]
    },
    {
      "cell_type": "code",
      "execution_count": null,
      "metadata": {
        "execution": {
          "iopub.execute_input": "2024-10-29T12:25:25.215307Z",
          "iopub.status.busy": "2024-10-29T12:25:25.214895Z",
          "iopub.status.idle": "2024-10-29T13:55:55.202657Z",
          "shell.execute_reply": "2024-10-29T13:55:55.201308Z",
          "shell.execute_reply.started": "2024-10-29T12:25:25.215267Z"
        },
        "id": "S-GXh1J9_aM2",
        "outputId": "7c9495da-c943-4f82-90d7-78edb9916128"
      },
      "outputs": [
        {
          "name": "stdout",
          "output_type": "stream",
          "text": [
            "Training RNN Model...\n",
            "Epoch [1/100], Loss: 2.0946\n",
            "Epoch [2/100], Loss: 0.7165\n",
            "Epoch [3/100], Loss: 0.6747\n",
            "Epoch [4/100], Loss: 0.6649\n",
            "Epoch [5/100], Loss: 0.6585\n",
            "Epoch [6/100], Loss: 0.6537\n",
            "Epoch [7/100], Loss: 0.6481\n",
            "Epoch [8/100], Loss: 0.6388\n",
            "Epoch [9/100], Loss: 0.6348\n",
            "Epoch [10/100], Loss: 0.6261\n",
            "Epoch [11/100], Loss: 0.6204\n",
            "Epoch [12/100], Loss: 0.6129\n",
            "Epoch [13/100], Loss: 0.6051\n",
            "Epoch [14/100], Loss: 0.5991\n",
            "Epoch [15/100], Loss: 0.5897\n",
            "Epoch [16/100], Loss: 0.5816\n",
            "Epoch [17/100], Loss: 0.5737\n",
            "Epoch [18/100], Loss: 0.5666\n",
            "Epoch [19/100], Loss: 0.5590\n",
            "Epoch [20/100], Loss: 0.5521\n",
            "Epoch [21/100], Loss: 0.5442\n",
            "Epoch [22/100], Loss: 0.5369\n",
            "Epoch [23/100], Loss: 0.5300\n",
            "Epoch [24/100], Loss: 0.5233\n",
            "Epoch [25/100], Loss: 0.5150\n",
            "Epoch [26/100], Loss: 0.5091\n",
            "Epoch [27/100], Loss: 0.5023\n",
            "Epoch [28/100], Loss: 0.4958\n",
            "Epoch [29/100], Loss: 0.4904\n",
            "Epoch [30/100], Loss: 0.4833\n",
            "Epoch [31/100], Loss: 0.4759\n",
            "Epoch [32/100], Loss: 0.4702\n",
            "Epoch [33/100], Loss: 0.4648\n",
            "Epoch [34/100], Loss: 0.4592\n",
            "Epoch [35/100], Loss: 0.4540\n",
            "Epoch [36/100], Loss: 0.4490\n",
            "Epoch [37/100], Loss: 0.4432\n",
            "Epoch [38/100], Loss: 0.4394\n",
            "Epoch [39/100], Loss: 0.4344\n",
            "Epoch [40/100], Loss: 0.4294\n",
            "Epoch [41/100], Loss: 0.4258\n",
            "Epoch [42/100], Loss: 0.4208\n",
            "Epoch [43/100], Loss: 0.4162\n",
            "Epoch [44/100], Loss: 0.4125\n",
            "Epoch [45/100], Loss: 0.4091\n",
            "Epoch [46/100], Loss: 0.4053\n",
            "Epoch [47/100], Loss: 0.4015\n",
            "Epoch [48/100], Loss: 0.3979\n",
            "Epoch [49/100], Loss: 0.3947\n",
            "Epoch [50/100], Loss: 0.3910\n",
            "Epoch [51/100], Loss: 0.3876\n",
            "Epoch [52/100], Loss: 0.3843\n",
            "Epoch [53/100], Loss: 0.3809\n",
            "Epoch [54/100], Loss: 0.3778\n",
            "Epoch [55/100], Loss: 0.3746\n",
            "Epoch [56/100], Loss: 0.3715\n",
            "Epoch [57/100], Loss: 0.3689\n",
            "Epoch [58/100], Loss: 0.3662\n",
            "Epoch [59/100], Loss: 0.3641\n",
            "Epoch [60/100], Loss: 0.3614\n",
            "Epoch [61/100], Loss: 0.3586\n",
            "Epoch [62/100], Loss: 0.3558\n",
            "Epoch [63/100], Loss: 0.3528\n",
            "Epoch [64/100], Loss: 0.3512\n",
            "Epoch [65/100], Loss: 0.3494\n",
            "Epoch [66/100], Loss: 0.3465\n",
            "Epoch [67/100], Loss: 0.3443\n",
            "Epoch [68/100], Loss: 0.3423\n",
            "Epoch [69/100], Loss: 0.3406\n",
            "Epoch [70/100], Loss: 0.3387\n",
            "Epoch [71/100], Loss: 0.3360\n",
            "Epoch [72/100], Loss: 0.3350\n",
            "Epoch [73/100], Loss: 0.3321\n",
            "Epoch [74/100], Loss: 0.3305\n",
            "Epoch [75/100], Loss: 0.3291\n",
            "Epoch [76/100], Loss: 0.3277\n",
            "Epoch [77/100], Loss: 0.3254\n",
            "Epoch [78/100], Loss: 0.3243\n",
            "Epoch [79/100], Loss: 0.3220\n",
            "Epoch [80/100], Loss: 0.3209\n",
            "Epoch [81/100], Loss: 0.3190\n",
            "Epoch [82/100], Loss: 0.3181\n",
            "Epoch [83/100], Loss: 0.3162\n",
            "Epoch [84/100], Loss: 0.3146\n",
            "Epoch [85/100], Loss: 0.3135\n",
            "Epoch [86/100], Loss: 0.3121\n",
            "Epoch [87/100], Loss: 0.3105\n",
            "Epoch [88/100], Loss: 0.3090\n",
            "Epoch [89/100], Loss: 0.3074\n",
            "Epoch [90/100], Loss: 0.3062\n",
            "Epoch [91/100], Loss: 0.3049\n",
            "Epoch [92/100], Loss: 0.3041\n",
            "Epoch [93/100], Loss: 0.3034\n",
            "Epoch [94/100], Loss: 0.3017\n",
            "Epoch [95/100], Loss: 0.3009\n",
            "Epoch [96/100], Loss: 0.2997\n",
            "Epoch [97/100], Loss: 0.2989\n",
            "Epoch [98/100], Loss: 0.2971\n",
            "Epoch [99/100], Loss: 0.2974\n",
            "Epoch [100/100], Loss: 0.2956\n"
          ]
        }
      ],
      "source": [
        "# Training and prediction\n",
        "print(\"Training RNN Model...\")\n",
        "train_model(rnn_model, rnn_optimizer)"
      ]
    },
    {
      "cell_type": "code",
      "execution_count": null,
      "metadata": {
        "execution": {
          "iopub.execute_input": "2024-10-29T13:55:55.206883Z",
          "iopub.status.busy": "2024-10-29T13:55:55.206355Z",
          "iopub.status.idle": "2024-10-29T15:26:58.454463Z",
          "shell.execute_reply": "2024-10-29T15:26:58.453021Z",
          "shell.execute_reply.started": "2024-10-29T13:55:55.206827Z"
        },
        "id": "sRAm8PH6_aM2",
        "outputId": "c55bf5c2-6fba-4a20-a99e-67aefac9c70a"
      },
      "outputs": [
        {
          "name": "stdout",
          "output_type": "stream",
          "text": [
            "Training LSTM Model...\n",
            "Epoch [1/100], Loss: 2.3348\n",
            "Epoch [2/100], Loss: 0.7045\n",
            "Epoch [3/100], Loss: 0.6771\n",
            "Epoch [4/100], Loss: 0.6664\n",
            "Epoch [5/100], Loss: 0.6632\n",
            "Epoch [6/100], Loss: 0.6572\n",
            "Epoch [7/100], Loss: 0.6548\n",
            "Epoch [8/100], Loss: 0.6503\n",
            "Epoch [9/100], Loss: 0.6500\n",
            "Epoch [10/100], Loss: 0.6457\n",
            "Epoch [11/100], Loss: 0.6436\n",
            "Epoch [12/100], Loss: 0.6394\n",
            "Epoch [13/100], Loss: 0.6366\n",
            "Epoch [14/100], Loss: 0.6323\n",
            "Epoch [15/100], Loss: 0.6294\n",
            "Epoch [16/100], Loss: 0.6262\n",
            "Epoch [17/100], Loss: 0.6210\n",
            "Epoch [18/100], Loss: 0.6173\n",
            "Epoch [19/100], Loss: 0.6143\n",
            "Epoch [20/100], Loss: 0.6098\n",
            "Epoch [21/100], Loss: 0.6033\n",
            "Epoch [22/100], Loss: 0.5997\n",
            "Epoch [23/100], Loss: 0.5946\n",
            "Epoch [24/100], Loss: 0.5889\n",
            "Epoch [25/100], Loss: 0.5853\n",
            "Epoch [26/100], Loss: 0.5788\n",
            "Epoch [27/100], Loss: 0.5734\n",
            "Epoch [28/100], Loss: 0.5686\n",
            "Epoch [29/100], Loss: 0.5619\n",
            "Epoch [30/100], Loss: 0.5571\n",
            "Epoch [31/100], Loss: 0.5516\n",
            "Epoch [32/100], Loss: 0.5461\n",
            "Epoch [33/100], Loss: 0.5411\n",
            "Epoch [34/100], Loss: 0.5339\n",
            "Epoch [35/100], Loss: 0.5287\n",
            "Epoch [36/100], Loss: 0.5241\n",
            "Epoch [37/100], Loss: 0.5181\n",
            "Epoch [38/100], Loss: 0.5120\n",
            "Epoch [39/100], Loss: 0.5077\n",
            "Epoch [40/100], Loss: 0.5028\n",
            "Epoch [41/100], Loss: 0.4978\n",
            "Epoch [42/100], Loss: 0.4928\n",
            "Epoch [43/100], Loss: 0.4874\n",
            "Epoch [44/100], Loss: 0.4820\n",
            "Epoch [45/100], Loss: 0.4770\n",
            "Epoch [46/100], Loss: 0.4724\n",
            "Epoch [47/100], Loss: 0.4681\n",
            "Epoch [48/100], Loss: 0.4639\n",
            "Epoch [49/100], Loss: 0.4601\n",
            "Epoch [50/100], Loss: 0.4551\n",
            "Epoch [51/100], Loss: 0.4506\n",
            "Epoch [52/100], Loss: 0.4479\n",
            "Epoch [53/100], Loss: 0.4430\n",
            "Epoch [54/100], Loss: 0.4396\n",
            "Epoch [55/100], Loss: 0.4356\n",
            "Epoch [56/100], Loss: 0.4334\n",
            "Epoch [57/100], Loss: 0.4300\n",
            "Epoch [58/100], Loss: 0.4255\n",
            "Epoch [59/100], Loss: 0.4258\n",
            "Epoch [60/100], Loss: 0.4210\n",
            "Epoch [61/100], Loss: 0.4168\n",
            "Epoch [62/100], Loss: 0.4142\n",
            "Epoch [63/100], Loss: 0.4115\n",
            "Epoch [64/100], Loss: 0.4078\n",
            "Epoch [65/100], Loss: 0.4052\n",
            "Epoch [66/100], Loss: 0.4023\n",
            "Epoch [67/100], Loss: 0.4004\n",
            "Epoch [68/100], Loss: 0.3984\n",
            "Epoch [69/100], Loss: 0.3951\n",
            "Epoch [70/100], Loss: 0.3944\n",
            "Epoch [71/100], Loss: 0.3918\n",
            "Epoch [72/100], Loss: 0.3895\n",
            "Epoch [73/100], Loss: 0.3865\n",
            "Epoch [74/100], Loss: 0.3850\n",
            "Epoch [75/100], Loss: 0.3819\n",
            "Epoch [76/100], Loss: 0.3797\n",
            "Epoch [77/100], Loss: 0.3773\n",
            "Epoch [78/100], Loss: 0.3752\n",
            "Epoch [79/100], Loss: 0.3738\n",
            "Epoch [80/100], Loss: 0.3723\n",
            "Epoch [81/100], Loss: 0.3702\n",
            "Epoch [82/100], Loss: 0.3683\n",
            "Epoch [83/100], Loss: 0.3657\n",
            "Epoch [84/100], Loss: 0.3640\n",
            "Epoch [85/100], Loss: 0.3620\n",
            "Epoch [86/100], Loss: 0.3605\n",
            "Epoch [87/100], Loss: 0.3594\n",
            "Epoch [88/100], Loss: 0.3573\n",
            "Epoch [89/100], Loss: 0.3546\n",
            "Epoch [90/100], Loss: 0.3538\n",
            "Epoch [91/100], Loss: 0.3512\n",
            "Epoch [92/100], Loss: 0.3498\n",
            "Epoch [93/100], Loss: 0.3473\n",
            "Epoch [94/100], Loss: 0.3450\n",
            "Epoch [95/100], Loss: 0.3412\n",
            "Epoch [96/100], Loss: 0.3384\n",
            "Epoch [97/100], Loss: 0.3365\n",
            "Epoch [98/100], Loss: 0.3334\n",
            "Epoch [99/100], Loss: 0.3299\n",
            "Epoch [100/100], Loss: 0.3289\n"
          ]
        }
      ],
      "source": [
        "print(\"Training LSTM Model...\")\n",
        "train_model(lstm_model, lstm_optimizer)"
      ]
    },
    {
      "cell_type": "code",
      "execution_count": null,
      "metadata": {
        "execution": {
          "iopub.execute_input": "2024-10-29T15:34:34.949406Z",
          "iopub.status.busy": "2024-10-29T15:34:34.948871Z",
          "iopub.status.idle": "2024-10-29T15:34:50.146025Z",
          "shell.execute_reply": "2024-10-29T15:34:50.145105Z",
          "shell.execute_reply.started": "2024-10-29T15:34:34.949363Z"
        },
        "id": "OLNY7xQD_aM3",
        "outputId": "10d515dc-cb42-47e5-e22e-7f6d96afdb6f"
      },
      "outputs": [
        {
          "name": "stdout",
          "output_type": "stream",
          "text": [
            "RNN Model - Loss: 0.8147, Accuracy: 0.9204\n",
            "LSTM Model - Loss: 0.7688, Accuracy: 0.9208\n"
          ]
        }
      ],
      "source": [
        "import numpy as np\n",
        "\n",
        "# Function to evaluate the model on test data\n",
        "def evaluate_model(model, data_loader):\n",
        "    model.eval()\n",
        "    total_loss = 0\n",
        "    correct = 0\n",
        "    criterion = nn.CrossEntropyLoss()  # Define loss function\n",
        "\n",
        "    with torch.no_grad():\n",
        "        for X_batch, y_batch in data_loader:\n",
        "            outputs = model(X_batch)\n",
        "            loss = criterion(outputs.view(-1, total_words), y_batch.view(-1))\n",
        "            total_loss += loss.item()\n",
        "\n",
        "            # Get predictions and calculate accuracy\n",
        "            _, predicted = torch.max(outputs, -1)\n",
        "            correct += (predicted == y_batch).sum().item()\n",
        "\n",
        "    avg_loss = total_loss / len(data_loader)\n",
        "    accuracy = correct / (len(data_loader.dataset) * max_sequence_length)\n",
        "    return avg_loss, accuracy\n",
        "\n",
        "# Evaluate RNN Model\n",
        "rnn_loss, rnn_accuracy = evaluate_model(rnn_model, test_loader)\n",
        "print(f\"RNN Model - Loss: {rnn_loss:.4f}, Accuracy: {rnn_accuracy:.4f}\")\n",
        "\n",
        "# Evaluate LSTM Model\n",
        "lstm_loss, lstm_accuracy = evaluate_model(lstm_model, test_loader)\n",
        "print(f\"LSTM Model - Loss: {lstm_loss:.4f}, Accuracy: {lstm_accuracy:.4f}\")\n"
      ]
    },
    {
      "cell_type": "code",
      "execution_count": null,
      "metadata": {
        "execution": {
          "iopub.execute_input": "2024-10-29T18:12:17.231608Z",
          "iopub.status.busy": "2024-10-29T18:12:17.231095Z",
          "iopub.status.idle": "2024-10-29T18:12:17.238492Z",
          "shell.execute_reply": "2024-10-29T18:12:17.236959Z",
          "shell.execute_reply.started": "2024-10-29T18:12:17.231561Z"
        },
        "id": "KSoiX2KC_aM4",
        "outputId": "404c35f9-0ef4-484d-e196-d0211a100af0"
      },
      "outputs": [
        {
          "name": "stdout",
          "output_type": "stream",
          "text": [
            "Sorry, I'll call later\n",
            "Known input text: Sorry, I'll\n",
            "RNN Prediction: call later <END>\n",
            "LSTM Prediction: call later <END>\n"
          ]
        }
      ],
      "source": [
        "# Test a SMS message from the dataset\n",
        "\n",
        "random_index = random.randint(0, len(texts) - 1)\n",
        "known_text = texts[random_index]\n",
        "\n",
        "half_length = len(known_text) // 2\n",
        "first_half = known_text[:half_length]\n",
        "print(known_text)\n",
        "print(\"Known input text:\", first_half)\n",
        "print(\"RNN Prediction:\", predict_example(rnn_model, first_half))\n",
        "print(\"LSTM Prediction:\", predict_example(lstm_model, first_half))"
      ]
    },
    {
      "cell_type": "code",
      "source": [
        "# Test a  SMS message from the dataset\n",
        "random_index = random.randint(0, len(texts) - 1)\n",
        "known_text = texts[random_index]\n",
        "\n",
        "half_length = len(known_text) // 2\n",
        "first_half = known_text[:half_length]\n",
        "print(known_text)\n",
        "print(\"Known input text:\", first_half)\n",
        "print(\"RNN Prediction:\", predict_example(rnn_model, first_half))\n",
        "print(\"LSTM Prediction:\", predict_example(lstm_model, first_half))"
      ],
      "metadata": {
        "colab": {
          "base_uri": "https://localhost:8080/"
        },
        "id": "7a_Vm5y9MS6g",
        "outputId": "5b4db940-56f0-4ccb-93ac-675c9074755a"
      },
      "execution_count": 2,
      "outputs": [
        {
          "output_type": "stream",
          "name": "stdout",
          "text": [
            "You lifted my hopes with the offer of money. I am in need. Especially when the end of the month approaches and it hurts my studying. Anyways have a gr8 weekend\n",
            "Known input text: You lifted my hopes with the offer of money. I am in need. Especially when the\n",
            "RNN Prediction: of the month approaches have it hurts i studying anyways you i gr8 weekend you <END>\n",
            "LSTM Prediction: of in month approaches the our my studying anyways have a gr8 weekend <END>\n"
          ]
        }
      ]
    },
    {
      "cell_type": "markdown",
      "metadata": {
        "id": "2AuczDiN_aM5"
      },
      "source": [
        "### Part - 3"
      ]
    },
    {
      "cell_type": "code",
      "execution_count": null,
      "metadata": {
        "execution": {
          "iopub.execute_input": "2024-10-27T13:18:59.853160Z",
          "iopub.status.busy": "2024-10-27T13:18:59.852594Z",
          "iopub.status.idle": "2024-10-27T13:19:02.917961Z",
          "shell.execute_reply": "2024-10-27T13:19:02.916426Z",
          "shell.execute_reply.started": "2024-10-27T13:18:59.853119Z"
        },
        "id": "IwO1gKvZ99zE"
      },
      "outputs": [],
      "source": [
        "import torch\n",
        "import torch.nn as nn\n",
        "import torch.optim as optim\n",
        "from torchvision import datasets, transforms\n",
        "from torch.utils.data import DataLoader\n",
        "import matplotlib.pyplot as plt\n",
        "import numpy as np\n",
        "import pandas as pd\n",
        "import os\n",
        "import struct\n",
        "import numpy as np\n",
        "import torch\n",
        "from torch.utils.data import Dataset, DataLoader\n",
        "import torchvision.transforms as transforms"
      ]
    },
    {
      "cell_type": "code",
      "execution_count": null,
      "metadata": {
        "execution": {
          "iopub.execute_input": "2024-10-27T13:19:02.920369Z",
          "iopub.status.busy": "2024-10-27T13:19:02.919833Z",
          "iopub.status.idle": "2024-10-27T13:19:03.394799Z",
          "shell.execute_reply": "2024-10-27T13:19:03.393683Z",
          "shell.execute_reply.started": "2024-10-27T13:19:02.920317Z"
        },
        "id": "lY5ERdCQ99zF"
      },
      "outputs": [],
      "source": [
        "class FashionMNISTIDX(Dataset):\n",
        "    def __init__(self, image_file, label_file, transform=None):\n",
        "        self.images = self.read_images(image_file)\n",
        "        self.labels = self.read_labels(label_file)\n",
        "        self.transform = transform\n",
        "\n",
        "    def read_images(self, file):\n",
        "        with open(file, 'rb') as f:\n",
        "            # Read the magic number and number of images\n",
        "            f.read(4)  # Magic number\n",
        "            num_images = struct.unpack('>I', f.read(4))[0]\n",
        "            num_rows = struct.unpack('>I', f.read(4))[0]\n",
        "            num_cols = struct.unpack('>I', f.read(4))[0]\n",
        "            # Read the image data\n",
        "            images = np.frombuffer(f.read(), dtype=np.uint8).reshape(num_images, num_rows, num_cols, 1)\n",
        "            return images\n",
        "\n",
        "    def read_labels(self, file):\n",
        "        with open(file, 'rb') as f:\n",
        "            # Read the magic number and number of labels\n",
        "            f.read(4)  # Magic number\n",
        "            num_labels = struct.unpack('>I', f.read(4))[0]\n",
        "            labels = np.frombuffer(f.read(), dtype=np.uint8)\n",
        "            return labels\n",
        "\n",
        "    def __len__(self):\n",
        "        return len(self.labels)\n",
        "\n",
        "    def __getitem__(self, idx):\n",
        "        image = self.images[idx]\n",
        "        label = self.labels[idx]\n",
        "\n",
        "        if self.transform:\n",
        "            image = self.transform(image)\n",
        "\n",
        "        return image, label\n",
        "\n",
        "# Hyperparameters\n",
        "batch_size = 64\n",
        "num_classes = 10\n",
        "latent_dim = 100\n",
        "img_shape = (1, 28, 28)\n",
        "lr = 0.0002\n",
        "\n",
        "# Define transformations\n",
        "transform = transforms.Compose([\n",
        "    transforms.ToTensor(),\n",
        "    transforms.Normalize([0.5], [0.5])\n",
        "])\n",
        "\n",
        "# Specify paths to the IDX files\n",
        "train_image_file = '/kaggle/input/fashionmnist/train-images-idx3-ubyte'\n",
        "train_label_file = '/kaggle/input/fashionmnist/train-labels-idx1-ubyte'\n",
        "\n",
        "# Load Fashion MNIST dataset from IDX files\n",
        "train_data = FashionMNISTIDX(train_image_file, train_label_file, transform=transform)\n",
        "train_loader = DataLoader(train_data, batch_size=batch_size, shuffle=True)\n"
      ]
    },
    {
      "cell_type": "code",
      "execution_count": null,
      "metadata": {
        "execution": {
          "iopub.execute_input": "2024-10-27T13:19:03.399101Z",
          "iopub.status.busy": "2024-10-27T13:19:03.398192Z",
          "iopub.status.idle": "2024-10-27T13:19:03.415615Z",
          "shell.execute_reply": "2024-10-27T13:19:03.414198Z",
          "shell.execute_reply.started": "2024-10-27T13:19:03.399043Z"
        },
        "id": "qPL8XJXN99zG"
      },
      "outputs": [],
      "source": [
        "# Generator Network\n",
        "class Generator(nn.Module):\n",
        "    def __init__(self, latent_dim, num_classes, img_shape):\n",
        "        super(Generator, self).__init__()\n",
        "        self.label_embedding = nn.Embedding(num_classes, num_classes)\n",
        "        self.init_size = img_shape[1] // 4\n",
        "        self.fc1 = nn.Linear(latent_dim + num_classes, 128 * self.init_size ** 2)\n",
        "\n",
        "        self.model = nn.Sequential(\n",
        "            nn.BatchNorm2d(128),\n",
        "            nn.Upsample(scale_factor=2),\n",
        "            nn.Conv2d(128, 128, 3, stride=1, padding=1),\n",
        "            nn.BatchNorm2d(128, 0.8),\n",
        "            nn.LeakyReLU(0.2, inplace=True),\n",
        "            nn.Upsample(scale_factor=2),\n",
        "            nn.Conv2d(128, 64, 3, stride=1, padding=1),\n",
        "            nn.BatchNorm2d(64, 0.8),\n",
        "            nn.LeakyReLU(0.2, inplace=True),\n",
        "            nn.Conv2d(64, img_shape[0], 3, stride=1, padding=1),\n",
        "            nn.Tanh()\n",
        "        )\n",
        "\n",
        "    def forward(self, noise, labels):\n",
        "        label_input = self.label_embedding(labels)\n",
        "        x = torch.cat((noise, label_input), -1)\n",
        "        x = self.fc1(x).view(x.size(0), 128, self.init_size, self.init_size)\n",
        "        return self.model(x)\n",
        "\n",
        "# Discriminator Network\n",
        "class Discriminator(nn.Module):\n",
        "    def __init__(self, num_classes, img_shape):\n",
        "        super(Discriminator, self).__init__()\n",
        "        self.label_embedding = nn.Embedding(num_classes, num_classes)\n",
        "\n",
        "        self.model = nn.Sequential(\n",
        "            nn.Linear(num_classes + int(np.prod(img_shape)), 512),\n",
        "            nn.LeakyReLU(0.2, inplace=True),\n",
        "            nn.Linear(512, 512),\n",
        "            nn.LeakyReLU(0.2, inplace=True),\n",
        "            nn.Linear(512, 1),\n",
        "            nn.Sigmoid()\n",
        "        )\n",
        "\n",
        "    def forward(self, img, labels):\n",
        "        label_input = self.label_embedding(labels)\n",
        "        img_flat = img.view(img.size(0), -1)\n",
        "        x = torch.cat((img_flat, label_input), -1)\n",
        "        return self.model(x)\n"
      ]
    },
    {
      "cell_type": "code",
      "execution_count": null,
      "metadata": {
        "colab": {
          "base_uri": "https://localhost:8080/"
        },
        "id": "Bl8e8Rmv_rBU",
        "outputId": "f3f0e60c-5184-4643-ebc1-60a947a9d27c"
      },
      "outputs": [
        {
          "name": "stdout",
          "output_type": "stream",
          "text": [
            "[Epoch 1/20] [D loss: 0.3248477280139923] [G loss: 1.64569091796875]\n",
            "[Epoch 2/20] [D loss: 0.43371203541755676] [G loss: 1.8426817655563354]\n",
            "[Epoch 3/20] [D loss: 0.3528537154197693] [G loss: 1.4020203351974487]\n",
            "[Epoch 4/20] [D loss: 0.4268873929977417] [G loss: 1.3496960401535034]\n",
            "[Epoch 5/20] [D loss: 0.36306023597717285] [G loss: 1.7253491878509521]\n",
            "[Epoch 6/20] [D loss: 0.4918530583381653] [G loss: 1.7082213163375854]\n",
            "[Epoch 7/20] [D loss: 0.5591301918029785] [G loss: 1.446216106414795]\n",
            "[Epoch 8/20] [D loss: 0.483335018157959] [G loss: 1.0499361753463745]\n",
            "[Epoch 9/20] [D loss: 0.49832987785339355] [G loss: 1.1351044178009033]\n",
            "[Epoch 10/20] [D loss: 0.5539543628692627] [G loss: 0.9175544381141663]\n",
            "[Epoch 11/20] [D loss: 0.5657895803451538] [G loss: 1.1461273431777954]\n",
            "[Epoch 12/20] [D loss: 0.6060587167739868] [G loss: 0.9216012954711914]\n",
            "[Epoch 13/20] [D loss: 0.6419234275817871] [G loss: 1.12203049659729]\n",
            "[Epoch 14/20] [D loss: 0.6348320245742798] [G loss: 1.4510834217071533]\n",
            "[Epoch 15/20] [D loss: 0.6549652814865112] [G loss: 0.9373155832290649]\n",
            "[Epoch 16/20] [D loss: 0.6624155640602112] [G loss: 0.8916496634483337]\n",
            "[Epoch 17/20] [D loss: 0.55971360206604] [G loss: 0.849078893661499]\n",
            "[Epoch 18/20] [D loss: 0.7385925054550171] [G loss: 0.9138879776000977]\n",
            "[Epoch 19/20] [D loss: 0.5280686616897583] [G loss: 0.9984539747238159]\n",
            "[Epoch 20/20] [D loss: 0.5753930807113647] [G loss: 0.9495532512664795]\n"
          ]
        }
      ],
      "source": [
        "generator = Generator(latent_dim, num_classes, img_shape)\n",
        "discriminator = Discriminator(num_classes, img_shape)\n",
        "adversarial_loss = nn.BCELoss()\n",
        "# Define optimizers\n",
        "optimizer_G = torch.optim.Adam(generator.parameters(), lr=lr)\n",
        "optimizer_D = torch.optim.Adam(discriminator.parameters(), lr=lr)\n",
        "\n",
        "device = torch.device(\"cuda\" if torch.cuda.is_available() else \"cpu\")\n",
        "\n",
        "# Move models to the device\n",
        "generator.to(device)\n",
        "discriminator.to(device)\n",
        "adversarial_loss = adversarial_loss.to(device)\n",
        "\n",
        "# Training loop (update tensor operations)\n",
        "n_epochs = 20\n",
        "# Training loop\n",
        "for epoch in range(n_epochs):\n",
        "    for i, (imgs, labels) in enumerate(train_loader):\n",
        "        batch_size = imgs.size(0)\n",
        "\n",
        "        # Real labels and fake labels\n",
        "        valid = torch.ones((batch_size, 1), requires_grad=False).to(device)\n",
        "        fake = torch.zeros((batch_size, 1), requires_grad=False).to(device)\n",
        "\n",
        "        # Configure input\n",
        "        real_imgs = imgs.to(device)\n",
        "        labels = labels.to(device).long()  # Ensure labels are of type LongTensor\n",
        "\n",
        "        # Train Generator\n",
        "        optimizer_G.zero_grad()\n",
        "\n",
        "        # Sample noise and labels\n",
        "        z = torch.randn(batch_size, latent_dim).to(device)\n",
        "        gen_labels = torch.randint(0, num_classes, (batch_size,), device=device).long()  # Ensure gen_labels are Long\n",
        "\n",
        "        # Generate images\n",
        "        gen_imgs = generator(z, gen_labels)\n",
        "        g_loss = adversarial_loss(discriminator(gen_imgs, gen_labels), valid)\n",
        "        g_loss.backward()\n",
        "        optimizer_G.step()\n",
        "\n",
        "        # Train Discriminator\n",
        "        optimizer_D.zero_grad()\n",
        "\n",
        "        # Real images loss\n",
        "        real_loss = adversarial_loss(discriminator(real_imgs, labels), valid)\n",
        "\n",
        "        # Fake images loss\n",
        "        fake_loss = adversarial_loss(discriminator(gen_imgs.detach(), gen_labels), fake)\n",
        "\n",
        "        d_loss = (real_loss + fake_loss) / 2\n",
        "        d_loss.backward()\n",
        "        optimizer_D.step()\n",
        "\n",
        "    print(f\"[Epoch {epoch + 1}/{n_epochs}] [D loss: {d_loss.item()}] [G loss: {g_loss.item()}]\")\n"
      ]
    },
    {
      "cell_type": "code",
      "execution_count": null,
      "metadata": {
        "execution": {
          "iopub.execute_input": "2024-10-27T16:35:34.994048Z",
          "iopub.status.busy": "2024-10-27T16:35:34.993590Z",
          "iopub.status.idle": "2024-10-27T16:35:36.379885Z",
          "shell.execute_reply": "2024-10-27T16:35:36.378603Z",
          "shell.execute_reply.started": "2024-10-27T16:35:34.994008Z"
        },
        "id": "cbkPZLOg99zH",
        "outputId": "0f369ee9-82b5-4f28-a2b8-03a7c510a147"
      },
      "outputs": [
        {
          "data": {
            "image/png": "[encoded data removed]",
            "text/plain": [
              "<Figure size 800x800 with 40 Axes>"
            ]
          },
          "metadata": {},
          "output_type": "display_data"
        }
      ],
      "source": [
        "device = torch.device(\"cpu\")  # Use CPU\n",
        "class_names = {\n",
        "    0: 'T-shirt', 1: 'Trouser', 2: 'Pullover', 3: 'Dress',\n",
        "    4: 'Coat', 5: 'Sandal', 6: 'Shirt', 7: 'Sneaker',\n",
        "    8: 'Bag', 9: 'Ankle Boot'\n",
        "}\n",
        "# To generate samples\n",
        "def generate_samples(generator, num_classes, latent_dim):\n",
        "    fig, axes = plt.subplots(num_classes, 4, figsize=(8, 8))\n",
        "    for i in range(num_classes):\n",
        "        label = torch.tensor([i] * 4).to(device)  # Use .to(device) instead of .cuda()\n",
        "        noise = torch.randn(4, latent_dim).to(device)  # Use .to(device)\n",
        "        generated_imgs = generator(noise, label).detach().cpu()\n",
        "        for j in range(4):\n",
        "            axes[i, j].imshow(generated_imgs[j][0], cmap='gray')\n",
        "            axes[i, j].axis(\"off\")\n",
        "    plt.show()\n",
        "\n",
        "generate_samples(generator, num_classes, latent_dim)\n"
      ]
    },
    {
      "cell_type": "code",
      "execution_count": null,
      "metadata": {
        "colab": {
          "base_uri": "https://localhost:8080/"
        },
        "id": "gtRfUZC199zH",
        "outputId": "a6d29713-d242-4049-ea2b-84e02c0bc5a9"
      },
      "outputs": [
        {
          "name": "stdout",
          "output_type": "stream",
          "text": [
            "Classes displayed in order:\n",
            "Class 0: T-shirt\n",
            "Class 1: Trouser\n",
            "Class 2: Pullover\n",
            "Class 3: Dress\n",
            "Class 4: Coat\n",
            "Class 5: Sandal\n",
            "Class 6: Shirt\n",
            "Class 7: Sneaker\n",
            "Class 8: Bag\n",
            "Class 9: Ankle Boot\n"
          ]
        }
      ],
      "source": [
        "print(\"Classes displayed in order:\")\n",
        "for i in range(num_classes):\n",
        "    print(f\"Class {i}: {class_names[i]}\")"
      ]
    },
    {
      "cell_type": "code",
      "execution_count": null,
      "metadata": {
        "id": "x9YbmuCa99zI"
      },
      "outputs": [],
      "source": []
    }
  ],
  "metadata": {
    "colab": {
      "provenance": []
    },
    "kaggle": {
      "accelerator": "none",
      "dataSources": [
        {
          "datasetId": 483,
          "sourceId": 982,
          "sourceType": "datasetVersion"
        }
      ],
      "dockerImageVersionId": 30786,
      "isGpuEnabled": false,
      "isInternetEnabled": true,
      "language": "python",
      "sourceType": "notebook"
    },
    "kernelspec": {
      "display_name": "Python 3 (ipykernel)",
      "language": "python",
      "name": "python3"
    },
    "language_info": {
      "codemirror_mode": {
        "name": "ipython",
        "version": 3
      },
      "file_extension": ".py",
      "mimetype": "text/x-python",
      "name": "python",
      "nbconvert_exporter": "python",
      "pygments_lexer": "ipython3",
      "version": "3.11.5"
    }
  },
  "nbformat": 4,
  "nbformat_minor": 0
}